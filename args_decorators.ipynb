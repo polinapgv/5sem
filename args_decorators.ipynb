{
 "cells": [
  {
   "cell_type": "code",
   "execution_count": 1,
   "metadata": {},
   "outputs": [
    {
     "name": "stdout",
     "output_type": "stream",
     "text": [
      "Users/polinapugacheva/anaconda3/lib/python3.7/site-packages/ipykernel_launcher.py\n",
      "f\n",
      "Users/polinapugacheva/Library/Jupyter/runtime/kernel-5487cacd-a40d-457f-91d2-604d164ff30e.json\n"
     ]
    }
   ],
   "source": [
    "#1\n",
    "import sys\n",
    "\n",
    "if __name__ == \"__main__\":\n",
    "    for param in sys.argv:\n",
    "        print (param[1:])"
   ]
  },
  {
   "cell_type": "code",
   "execution_count": 2,
   "metadata": {},
   "outputs": [
    {
     "name": "stderr",
     "output_type": "stream",
     "text": [
      "usage: ipykernel_launcher.py [-h] num\n",
      "ipykernel_launcher.py: error: argument num: invalid int value: '/Users/polinapugacheva/Library/Jupyter/runtime/kernel-5487cacd-a40d-457f-91d2-604d164ff30e.json'\n"
     ]
    },
    {
     "ename": "SystemExit",
     "evalue": "2",
     "output_type": "error",
     "traceback": [
      "An exception has occurred, use %tb to see the full traceback.\n",
      "\u001b[0;31mSystemExit\u001b[0m\u001b[0;31m:\u001b[0m 2\n"
     ]
    },
    {
     "name": "stderr",
     "output_type": "stream",
     "text": [
      "/Users/polinapugacheva/anaconda3/lib/python3.7/site-packages/IPython/core/interactiveshell.py:3334: UserWarning: To exit: use 'exit', 'quit', or Ctrl-D.\n",
      "  warn(\"To exit: use 'exit', 'quit', or Ctrl-D.\", stacklevel=1)\n"
     ]
    }
   ],
   "source": [
    "# 2\n",
    "import argparse\n",
    "\n",
    "def fibo(n):\n",
    "    a = 0\n",
    "    b = 1\n",
    "    for x in range(n):\n",
    "        a = b \n",
    "        b = a + b\n",
    "    return a\n",
    "\n",
    "def createParser():\n",
    "    parser = argparse.ArgumentParser()\n",
    "    parser.add_argument('num', type = int)\n",
    " \n",
    "    return parser\n",
    "\n",
    "if __name__ == '__main__':\n",
    "    parser = createParser()\n",
    "    args = parser.parse_args()\n",
    "    \n",
    "    print(fibo(args.num))"
   ]
  },
  {
   "cell_type": "code",
   "execution_count": 3,
   "metadata": {},
   "outputs": [
    {
     "name": "stderr",
     "output_type": "stream",
     "text": [
      "usage: ipykernel_launcher.py [-h] [-a] [-f FILE] num\n",
      "ipykernel_launcher.py: error: the following arguments are required: num\n"
     ]
    },
    {
     "ename": "SystemExit",
     "evalue": "2",
     "output_type": "error",
     "traceback": [
      "An exception has occurred, use %tb to see the full traceback.\n",
      "\u001b[0;31mSystemExit\u001b[0m\u001b[0;31m:\u001b[0m 2\n"
     ]
    }
   ],
   "source": [
    "# 3\n",
    "import argparse\n",
    "\n",
    "def fibo(n, pr=False):\n",
    "    a = 0\n",
    "    b = 1\n",
    "    l = []\n",
    "    for i in range(n):\n",
    "        a = b\n",
    "        b = a + b\n",
    "        l.append(str(a))\n",
    "    if pr == True:\n",
    "        return ' '.join(l)\n",
    "    else:\n",
    "        return a\n",
    "\n",
    "\n",
    "def createParser():\n",
    "    parser = argparse.ArgumentParser()\n",
    "    parser.add_argument('num', type = int)\n",
    "    parser.add_argument('-a','--all', action='store_const', const=True)\n",
    "    parser.add_argument ('-f', '--file','--filename', type=argparse.FileType(mode='w', encoding=None, errors=None))\n",
    "    return parser\n",
    "\n",
    "if __name__ == '__main__':\n",
    "    parser = createParser()\n",
    "    args = parser.parse_args()\n",
    "    \n",
    "    print(args)\n",
    "        \n",
    "    if args.file:\n",
    "        if args.all == True:\n",
    "            args.file.write(fibo(args.num, True))\n",
    "        else:\n",
    "            args.file.write(fibo(args.num))\n",
    "    else:\n",
    "        if args.all == True:\n",
    "            fibo(args.num, True)\n",
    "        else:\n",
    "            fibo(args.num)"
   ]
  },
  {
   "cell_type": "code",
   "execution_count": 4,
   "metadata": {},
   "outputs": [
    {
     "name": "stdout",
     "output_type": "stream",
     "text": [
      "Нет(\n",
      "Очень много\n"
     ]
    }
   ],
   "source": [
    "# 4 \n",
    "\n",
    "def decorator(func):\n",
    "    def wrapper(l):\n",
    "        n = func(l)\n",
    "        if n == 0:\n",
    "            print('Нет(')\n",
    "        elif n > 10:\n",
    "            print('Очень много')\n",
    "    return wrapper\n",
    "\n",
    "@decorator\n",
    "def even(l):\n",
    "    n = 0\n",
    "    for i in l:\n",
    "        if i % 2 == 0:\n",
    "            n += 1\n",
    "    return n \n",
    "    \n",
    "if __name__ == '__main__':\n",
    "    l1 = [i for i in range(10)]\n",
    "    l2 = [1, 3, 7]\n",
    "    l3 = [i for i in range(100)]\n",
    "    for list_i in [l1, l2, l3]:\n",
    "        even(list_i)"
   ]
  },
  {
   "cell_type": "code",
   "execution_count": 5,
   "metadata": {},
   "outputs": [
    {
     "name": "stdout",
     "output_type": "stream",
     "text": [
      "2.0\n"
     ]
    },
    {
     "data": {
      "text/plain": [
       "2.0"
      ]
     },
     "execution_count": 5,
     "metadata": {},
     "output_type": "execute_result"
    }
   ],
   "source": [
    "# 5\n",
    "\n",
    "def swap(func):\n",
    "    def wrapper(*args, **kwargs):\n",
    "        return func(*args[::-1], **kwargs)\n",
    "    return wrapper\n",
    "    \n",
    "@swap\n",
    "def div(x, y, show=False):\n",
    "    res = x / y\n",
    "    if show:\n",
    "        print(res)\n",
    "    return res\n",
    "\n",
    "div(2, 4, show=True)"
   ]
  },
  {
   "cell_type": "code",
   "execution_count": 6,
   "metadata": {},
   "outputs": [],
   "source": [
    "# 6\n",
    "\n",
    "import time\n",
    "\n",
    "def logging(file_path):\n",
    "    def actual_logging(func):\n",
    "        @wraps(func)\n",
    "        def logger(*args, **kwargs):\n",
    "            start = time()\n",
    "            result = func(*args, **kwargs)\n",
    "            stop = time()\n",
    "            write_res = result if result else '-'\n",
    "            with open(file_path, 'a') as f:\n",
    "                f.writelines(\n",
    "                    [\n",
    "                        func.__name__ + '\\n',\n",
    "                        str(start) + '\\n',\n",
    "                        (''.join(map(str, args)) + \n",
    "                        ' '.join(map(lambda k: str(k[0]) + ' = ' + str(k[1]), kwargs.items())) + '\\n'),\n",
    "                        str(write_res) + '\\n',\n",
    "                        str(stop) + '\\n',\n",
    "                        str(stop - start) + '\\n',\n",
    "                        '\\n'\n",
    "                    ]\n",
    "                )\n",
    "            return result\n",
    "        return logger\n",
    "    return actual_logging"
   ]
  },
  {
   "cell_type": "markdown",
   "metadata": {},
   "source": [
    "# Контрольные вопросы"
   ]
  },
  {
   "cell_type": "markdown",
   "metadata": {},
   "source": [
    "Сколько аргументов передается из командной строки при выполнении кода: python3 1.py \"arg\" 7 --value 18 -a? Перечислите эти параметры.\n",
    "\n",
    "*4: arg, 7, 18, а*"
   ]
  },
  {
   "cell_type": "markdown",
   "metadata": {},
   "source": [
    "Каким образом мы можем получить имя исполняемого скрипта внутри программы?\n",
    "\n",
    "*print(sys.argv[0])*"
   ]
  },
  {
   "cell_type": "markdown",
   "metadata": {},
   "source": [
    "Каким образом можно обратиться к значениям параметров при использовании библиотеки argparse? Какие особенности будут, если эти параметры передавались через дефис, два дефиса или через оба?\n",
    "\n",
    "\n",
    "1. Создаем экземпляр класса ArgumentParser.\n",
    "2. Добавляем в него информацию об ожидаемых параметрах с помощью метода add_argument (по одному вызову на каждый параметр).\n",
    "3. Разбираем командную строку помощью метода parse_args, передавая ему полученные параметры командной строки (кроме нулевого элемента списка sys.argv).\n",
    "Обычно аргументы с одним дефисом состоят только из одной буквы/символа, т.е -abc = -a -b -c . С двойным дефисом вводятся длинные параметры, состоящие из нескольких символов"
   ]
  },
  {
   "cell_type": "markdown",
   "metadata": {},
   "source": [
    "В каком случае сработает присвоение параметру значения default? В каком const? Как это связано с nargs?\n",
    "\n",
    "*const - для хранения постоянных значений, которые не считываются из командной строки, требуемое некоторыми action и nargs (по умолчанию имеет значение None)*\n",
    "\n",
    "*default - значение (необязательные параметры и некоторые позиционные параметры), полученное, если опция отсутствует в командной строке (значение по умолчанию равно None)*\n",
    "\n",
    "Для позиционных параметров с установленным аргументом nargs равным '?' или '*', значение по умолчанию default используется при отсутствии параметра в командной строке"
   ]
  },
  {
   "cell_type": "markdown",
   "metadata": {},
   "source": [
    "Что такое декораторы и для чего они применяются?\n",
    "\n",
    "*функция второго уровня, то есть принимающая другие функции в качестве переменных и возвращающая их, работают не только с функциями, но и с классами и методами*\n",
    "\n",
    "*по сути дают делать что-то еще до и после того как сработала декорируемая функция*"
   ]
  },
  {
   "cell_type": "markdown",
   "metadata": {},
   "source": [
    "Как использование декоратора влияет на время работы функции?\n",
    "\n",
    "*Негативно*\n",
    "\n",
    "*Дольше работает короче*"
   ]
  }
 ],
 "metadata": {
  "kernelspec": {
   "display_name": "Python 3",
   "language": "python",
   "name": "python3"
  },
  "language_info": {
   "codemirror_mode": {
    "name": "ipython",
    "version": 3
   },
   "file_extension": ".py",
   "mimetype": "text/x-python",
   "name": "python",
   "nbconvert_exporter": "python",
   "pygments_lexer": "ipython3",
   "version": "3.7.5"
  }
 },
 "nbformat": 4,
 "nbformat_minor": 2
}
